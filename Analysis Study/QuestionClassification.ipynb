{
 "cells": [
  {
   "cell_type": "code",
   "execution_count": null,
   "metadata": {},
   "outputs": [],
   "source": [
    "import pandas as pd\n",
    "import numpy as np\n",
    "from sympy import *\n",
    "import openai"
   ]
  },
  {
   "cell_type": "code",
   "execution_count": null,
   "metadata": {},
   "outputs": [],
   "source": [
    "# assign variable value with your OpenAI key to continue\n",
    "openai.api_key = ''"
   ]
  },
  {
   "cell_type": "code",
   "execution_count": null,
   "metadata": {},
   "outputs": [],
   "source": [
    "# GPT-3\n",
    "def generate_3(s):\n",
    "    response = openai.Completion.create(\n",
    "        model='text-davinci-003',\n",
    "        prompt=s,\n",
    "        temperature=0.7)\n",
    "    return response['choices'][0]['text']"
   ]
  },
  {
   "cell_type": "code",
   "execution_count": null,
   "metadata": {},
   "outputs": [],
   "source": [
    "# GPT-3.5\n",
    "def generate_3_5(s):\n",
    "    completion = openai.ChatCompletion.create(\n",
    "        model='gpt-3.5-turbo',\n",
    "        messages=[{\n",
    "            \"role\": 'user',\n",
    "            \"content\": s\n",
    "        }],\n",
    "        temperature=0.7\n",
    "    )\n",
    "    return completion.choices[0].message.content"
   ]
  },
  {
   "cell_type": "code",
   "execution_count": null,
   "metadata": {},
   "outputs": [],
   "source": [
    "# GPT-4\n",
    "def generate_4(s):\n",
    "    response = openai.ChatCompletion.create(\n",
    "        model=\"gpt-4\",\n",
    "        messages=[{\n",
    "            \"role\": 'user',\n",
    "            \"content\": s\n",
    "        }],\n",
    "        temperature=0.7)\n",
    "    return response.choices[0].message.content"
   ]
  },
  {
   "cell_type": "code",
   "execution_count": null,
   "metadata": {},
   "outputs": [],
   "source": [
    "df50 = pd.read_excel('Data/L50.xlsx', header=None)\n",
    "df50 = df50[[0,2]]\n",
    "df50 = df50.rename(columns={0: \"Question\", 2: \"Category\"})\n",
    "df50['Model3'] = ''\n",
    "df50['Model3_5'] = ''\n",
    "df50['Model4'] = ''\n",
    "\n",
    "# Model Answers\n",
    "for index, row in df50.iterrows():\n",
    "    s = row['Question']+'\\nWhich type of question does the above one belong to?\\nA. Sum and Difference\\\n",
    "    \\nB. Item and Property\\nC. Perimeter of Rectangles\\nD. Motion\\nE. Mixture'\n",
    "    df50.loc[index, 'Model3'] = generate_3(s)\n",
    "    df50.loc[index, 'Model3_5'] = generate_3_5(s)\n",
    "    df50.loc[index, 'Model4'] = generate_4(s)\n",
    "\n",
    "# save results    \n",
    "#df50.to_excel(\"Classfication4.xlsx\",index=False)\n"
   ]
  }
 ],
 "metadata": {
  "language_info": {
   "name": "python"
  },
  "orig_nbformat": 4
 },
 "nbformat": 4,
 "nbformat_minor": 2
}
