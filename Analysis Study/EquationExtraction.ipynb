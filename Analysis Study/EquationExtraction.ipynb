{
 "cells": [
  {
   "cell_type": "code",
   "execution_count": null,
   "metadata": {},
   "outputs": [],
   "source": [
    "import pandas as pd\n",
    "import numpy as np\n",
    "from sympy import *\n",
    "import openai\n",
    "import re\n",
    "import time\n",
    "import random"
   ]
  },
  {
   "cell_type": "code",
   "execution_count": null,
   "metadata": {},
   "outputs": [],
   "source": [
    "# assign variable value with your OpenAI key to continue\n",
    "openai.api_key = ''"
   ]
  },
  {
   "cell_type": "code",
   "execution_count": null,
   "metadata": {},
   "outputs": [],
   "source": [
    "# GPT-3\n",
    "def generate_3(s):\n",
    "    response = openai.Completion.create(\n",
    "        model='text-davinci-003',\n",
    "        prompt=s,\n",
    "        temperature=0.1)\n",
    "    return response['choices'][0]['text']"
   ]
  },
  {
   "cell_type": "code",
   "execution_count": null,
   "metadata": {},
   "outputs": [],
   "source": [
    "# GPT-3.5\n",
    "def generate_3_5(s):\n",
    "    completion = openai.ChatCompletion.create(\n",
    "        model='gpt-3.5-turbo',\n",
    "        messages=[{\n",
    "            \"role\": 'user',\n",
    "            \"content\": s\n",
    "        }],\n",
    "        temperature=0.1\n",
    "    )\n",
    "    return completion.choices[0].message.content"
   ]
  },
  {
   "cell_type": "code",
   "execution_count": null,
   "metadata": {},
   "outputs": [],
   "source": [
    "# GPT-4\n",
    "def generate_4(s):\n",
    "    response = openai.ChatCompletion.create(\n",
    "        model=\"gpt-4\",\n",
    "        messages=[{\n",
    "            \"role\": 'user',\n",
    "            \"content\": s\n",
    "        }],\n",
    "        temperature=0.1)\n",
    "    return response.choices[0].message.content"
   ]
  },
  {
   "cell_type": "code",
   "execution_count": null,
   "metadata": {},
   "outputs": [],
   "source": [
    "# define variables\n",
    "x = symbols(\"x\")\n",
    "y = symbols(\"y\")\n",
    "sym = \" -> \""
   ]
  },
  {
   "cell_type": "code",
   "execution_count": null,
   "metadata": {},
   "outputs": [],
   "source": [
    "# calculate accuracy of extracted equations\n",
    "def acc_calculation(ans_df):\n",
    "    corr_num = 0\n",
    "    for i in range(len(ans_df)):\n",
    "        # check if generated answer contains 2 equations and no characters other than x, y, digits and operators\n",
    "        ans = ans_df.iloc[i, 1].replace(\" \",\"\")\n",
    "        ans = ans.replace(\"\\n\",\"\")\n",
    "        ans = ans.rstrip('.')\n",
    "        ans = ans.replace(\"^\",\"**\").split(\";\")\n",
    "        invalid_char = re.findall(r'[^\\^xy0-9=+-/\\*;\\(\\) ]+', ans_df.iloc[i, 1])\n",
    "        if \",\" in ans_df.iloc[i, 1]:\n",
    "            continue\n",
    "        elif len(ans)!=2 or len(invalid_char)!=0:\n",
    "            continue \n",
    "        elif ans[1] == \"\":\n",
    "            continue\n",
    "        # proceed with valid answers\n",
    "        # filling in asterisks\n",
    "        temp = re.findall(r'[xy]|\\d|[=+-/\\*\\(\\)]', ans[0])\n",
    "        j = 1\n",
    "        while j<len(temp):\n",
    "            if temp[j] == \"x\" or temp[j] == \"y\" or temp[j] == \"(\":\n",
    "                if temp[j-1].isdigit() or temp[j-1] == \")\" or temp[j-1] == \"x\" or temp[j-1] == \"y\":\n",
    "                    temp.insert(j,\"*\")\n",
    "                if temp[j-1] == \".\":\n",
    "                    temp.insert(j,\"0*\")\n",
    "            elif temp[j].isdigit() and temp[j-1] == \")\":\n",
    "                temp.insert(j,\"*\")\n",
    "            if temp[j] == \".\" and j+1 == len(temp):\n",
    "                temp.pop(j)\n",
    "            j +=1\n",
    "        first = \"\".join(temp).split(\"=\")\n",
    "        j = 1\n",
    "        temp = re.findall(r'[xy]|\\d|[=+-/\\*\\(\\)]', ans[1])\n",
    "        while j<len(temp):\n",
    "            if temp[j] == \"x\" or temp[j] == \"y\" or temp[j] == \"(\":\n",
    "                if temp[j-1].isdigit() or temp[j-1] == \")\" or temp[j-1] == \"x\" or temp[j-1] == \"y\":\n",
    "                    temp.insert(j,\"*\")\n",
    "                if temp[j-1] == \".\":\n",
    "                    temp.insert(j,\"0*\")\n",
    "            elif temp[j].isdigit() and temp[j-1] == \")\":\n",
    "                temp.insert(j,\"*\")\n",
    "            if temp[j] == \".\" and j+1 == len(temp):\n",
    "                temp.pop(j)\n",
    "            j +=1\n",
    "        second = \"\".join(temp).split(\"=\")\n",
    "        if \"\" in first or \"\" in second:\n",
    "            continue\n",
    "        # create equations\n",
    "        eq1 = Eq(eval(first[0]),eval(first[1]),evaluate=False)\n",
    "        eq2 = Eq(eval(second[0]),eval(second[1]),evaluate=False)\n",
    "        reference = ans_df.iloc[i, 0].split(\";\")\n",
    "        one = reference[0].split(\"=\")\n",
    "        two = reference[1].split(\"=\")\n",
    "        ref1 = Eq(eval(one[0]),eval(one[1]),evaluate=False)\n",
    "        ref2 = Eq(eval(two[0]),eval(two[1]),evaluate=False)\n",
    "        # check if the model switched variables for representation\n",
    "        temp = re.findall(r'[xy]|\\d|[=+-/\\*\\(\\)]', \"=\".join([first[0],first[1]]))\n",
    "        k=0\n",
    "        while k<len(temp):\n",
    "            if temp[k] == \"x\":\n",
    "                temp[k] = \"y\"\n",
    "            elif temp[k] == \"y\":\n",
    "                temp[k] = \"x\"\n",
    "            k += 1\n",
    "        sub1 = \"\".join(temp).split(\"=\")\n",
    "        temp = re.findall(r'[xy]|\\d|[=+-/\\*\\(\\)]', \"=\".join([second[0],second[1]]))\n",
    "        k=0\n",
    "        while k<len(temp):\n",
    "            if temp[k] == \"x\":\n",
    "                temp[k] = \"y\"\n",
    "            elif temp[k] == \"y\":\n",
    "                temp[k] = \"x\"\n",
    "            k += 1\n",
    "        sub2 = \"\".join(temp).split(\"=\")\n",
    "        se1 = Eq(eval(sub1[0]),eval(sub1[1]),evaluate=False)\n",
    "        se2 = Eq(eval(sub2[0]),eval(sub2[1]),evaluate=False)\n",
    "        # compare equations\n",
    "        if solve(eq1)==solve(ref1) and solve(eq2)==solve(ref2):\n",
    "            corr_num += 1\n",
    "        elif solve(eq1)==solve(ref2) and solve(eq2)==solve(ref1):\n",
    "            corr_num += 1\n",
    "        elif solve(se1)==solve(ref1) and solve(se2)==solve(ref2):\n",
    "            corr_num += 1\n",
    "        elif solve(se1)==solve(ref2) and solve(se2)==solve(ref1):\n",
    "            corr_num += 1\n",
    "    return(corr_num/len(ans_df))"
   ]
  },
  {
   "cell_type": "markdown",
   "metadata": {},
   "source": [
    "# Zero-shot Learning"
   ]
  },
  {
   "cell_type": "code",
   "execution_count": null,
   "metadata": {},
   "outputs": [],
   "source": [
    "df100 = pd.read_excel('Data/L100.xlsx', header=None)\n",
    "df100 = df100.rename(columns={0: \"Question\", 1: \"Answer\", 2: \"Category\"})\n",
    "df100['ModelAnswer3'] = ''\n",
    "df100['ModelAnswerTurbo'] = ''\n",
    "df100['ModelAnswer4'] = ''"
   ]
  },
  {
   "cell_type": "code",
   "execution_count": null,
   "metadata": {},
   "outputs": [],
   "source": [
    "# zero-shot 3\n",
    "for index, row in df100.iterrows():\n",
    "    s = 'Extract a system of two linear equations in terms of x and y from the following question. \\\n",
    "    Separate the equations with a semicolon.Do not explain what x and y represent, try solve the problem, \\\n",
    "    or add any explanations.\\nQuestion: '+row['Question']+'\\nEquations:'\n",
    "    df100.loc[index, 'ModelAnswer3'] = generate_3(s)\n",
    "    time.sleep(0.2)\n",
    "print(acc_calculation(df100[['Answer', 'ModelAnswer3']]))"
   ]
  },
  {
   "cell_type": "code",
   "execution_count": null,
   "metadata": {},
   "outputs": [],
   "source": [
    "# zero-shot 3.5\n",
    "for index, row in df100.iterrows():\n",
    "    s = 'Extract a system of two linear equations in terms of x and y from the following question. \\\n",
    "    Separate the equations with a semicolon.Do not explain what x and y represent, try solve the problem, \\\n",
    "    or add any explanations.\\nQuestion: '+row['Question']+'\\nEquations:'\n",
    "    df100.loc[index, 'ModelAnswerTurbo'] = generate_3_5(s)\n",
    "    time.sleep(0.2)"
   ]
  },
  {
   "cell_type": "code",
   "execution_count": null,
   "metadata": {},
   "outputs": [],
   "source": [
    "print(acc_calculation(df100[['Answer', 'ModelAnswerTurbo']]))"
   ]
  },
  {
   "cell_type": "code",
   "execution_count": null,
   "metadata": {},
   "outputs": [],
   "source": [
    "# zero-shot 4\n",
    "for index, row in df100.iterrows():\n",
    "    s = 'Extract a system of two linear equations in terms of x and y from the following question. \\\n",
    "    Separate the equations with a semicolon.Do not explain what x and y represent, try solve the problem, \\\n",
    "    or add any explanations. \\nQuestion: '+row['Question']+'\\nEquations:'\n",
    "    df100.loc[index, 'ModelAnswer4'] = generate_4(s)\n",
    "    time.sleep(0.2)"
   ]
  },
  {
   "cell_type": "code",
   "execution_count": null,
   "metadata": {},
   "outputs": [],
   "source": [
    "print(acc_calculation(df100[['Answer', 'ModelAnswer4']]))"
   ]
  },
  {
   "cell_type": "code",
   "execution_count": null,
   "metadata": {},
   "outputs": [],
   "source": [
    "df100.to_excel(\"ZeroShot.xlsx\",index=False)"
   ]
  },
  {
   "cell_type": "markdown",
   "metadata": {},
   "source": [
    "# Few-shot Learning"
   ]
  },
  {
   "cell_type": "code",
   "execution_count": null,
   "metadata": {},
   "outputs": [],
   "source": [
    "# randomly draw sample questions from L1000\n",
    "df1k = pd.read_excel('Data/L1000.xlsx', header=None)\n",
    "df1k = df1k.rename(columns={0: \"Question\", 1: \"Answer\", 2: \"Category\"})\n",
    "qs = pd.DataFrame(columns=['Question', 'Answer', 'Category'])\n",
    "gp1k = df1k.groupby('Category')\n",
    "for name, group in gp1k:\n",
    "    temp = group.reset_index()\n",
    "    idxs = random.sample(range(0,len(group)+1),1)\n",
    "    for i in idxs:\n",
    "        qs.loc[len(qs)] = [temp.loc[i, 'Question'], temp.loc[i, 'Answer'], name]"
   ]
  },
  {
   "cell_type": "code",
   "execution_count": null,
   "metadata": {},
   "outputs": [],
   "source": [
    "# examples.xlsx contains examples we used\n",
    "qs = pd.read_excel('examples.xlsx')"
   ]
  },
  {
   "cell_type": "code",
   "execution_count": null,
   "metadata": {},
   "outputs": [],
   "source": [
    "# create the prompt\n",
    "n = 5 # n is the number of examples giving to models, change value for different settings\n",
    "s = \"Extract a system of two linear equations in terms of x and y from the last question, like in the given examples. \\\n",
    "    Do not explain what x and y represent, try solve the problem, or add any explanations. \\\n",
    "    Do not use any other characters to represent the variables.\\n\"\n",
    "for i in range(n):\n",
    "    s = s+str(i+1)+'. '+qs.iloc[i,0]+sym+qs.iloc[i,1]+'\\n'\n",
    "s = s+str(n+1)+'. '"
   ]
  },
  {
   "cell_type": "code",
   "execution_count": null,
   "metadata": {},
   "outputs": [],
   "source": [
    "# questions models extract equations from\n",
    "df100 = pd.read_excel('Data/L100.xlsx', header=None)\n",
    "df100 = df100.rename(columns={0: \"Question\", 1: \"Answer\", 2: \"Category\"})\n",
    "df100['ModelAnswer3'] = ''\n",
    "df100['ModelAnswerTurbo'] = ''\n",
    "df100['ModelAnswer4'] = ''"
   ]
  },
  {
   "cell_type": "code",
   "execution_count": null,
   "metadata": {},
   "outputs": [],
   "source": [
    "# GPT-3\n",
    "for index, row in df100.iterrows():\n",
    "    resp = generate_3(s+row['Question']+sym)\n",
    "    df100.loc[index, 'ModelAnswer3'] = resp.replace(\"\\n\", \"\")\n",
    "\n",
    "# GPT-3.5\n",
    "for index, row in df100.iterrows():\n",
    "    resp = generate_3_5(s+row['Question']+sym)\n",
    "    df100.loc[index, 'ModelAnswerTurbo'] = resp.replace(\"\\n\", \"\")\n",
    "    time.sleep(0.2)\n",
    "\n",
    "# GPT-4\n",
    "for index, row in df100.iterrows():\n",
    "    resp = generate_4(s+row['Question']+sym)\n",
    "    df100.loc[index, 'ModelAnswer4'] = resp.replace(\"\\n\", \"\")"
   ]
  },
  {
   "cell_type": "code",
   "execution_count": null,
   "metadata": {},
   "outputs": [],
   "source": [
    "print(acc_calculation(df100[['Answer', 'ModelAnswer3']]))\n",
    "print(acc_calculation(df100[['Answer', 'ModelAnswerTurbo']]))\n",
    "print(acc_calculation(df100[['Answer', 'ModelAnswer4']]))\n",
    "#df100.to_excel(\"5ShotT1.xlsx\",index=False)"
   ]
  },
  {
   "cell_type": "code",
   "execution_count": null,
   "metadata": {},
   "outputs": [],
   "source": [
    "# Accuracy by category GPT-3\n",
    "for name, group in df100.groupby('Category'):\n",
    "    print(name)\n",
    "    print(acc_calculation(group[['Answer', 'ModelAnswer3']]))"
   ]
  },
  {
   "cell_type": "code",
   "execution_count": null,
   "metadata": {},
   "outputs": [],
   "source": [
    "# Accuracy by category GPT-3.5\n",
    "for name, group in df100.groupby('Category'):\n",
    "    print(name)\n",
    "    print(acc_calculation(group[['Answer', 'ModelAnswerTurbo']]))"
   ]
  },
  {
   "cell_type": "code",
   "execution_count": null,
   "metadata": {},
   "outputs": [],
   "source": [
    "# Accuracy by category GPT-4\n",
    "for name, group in df100.groupby('Category'):\n",
    "    print(name)\n",
    "    print(acc_calculation(group[['Answer', 'ModelAnswer4']]))"
   ]
  },
  {
   "cell_type": "markdown",
   "metadata": {},
   "source": [
    "# Fine-tuning\n",
    "#### Fine-tuned model is not accessible for other accounts. Follow the fine-tuning guidelines and use L1000 to reproduce."
   ]
  }
 ],
 "metadata": {
  "language_info": {
   "name": "python"
  },
  "orig_nbformat": 4
 },
 "nbformat": 4,
 "nbformat_minor": 2
}
