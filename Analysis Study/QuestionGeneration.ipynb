{
 "cells": [
  {
   "cell_type": "code",
   "execution_count": null,
   "id": "5f2eea17",
   "metadata": {},
   "outputs": [],
   "source": [
    "import pandas as pd\n",
    "import numpy as np\n",
    "from sympy import *\n",
    "import openai\n",
    "import time\n",
    "import random"
   ]
  },
  {
   "cell_type": "code",
   "execution_count": null,
   "metadata": {},
   "outputs": [],
   "source": [
    "# assign variable value with your OpenAI key to continue\n",
    "openai.api_key = ''"
   ]
  },
  {
   "cell_type": "code",
   "execution_count": null,
   "metadata": {},
   "outputs": [],
   "source": [
    "# 3\n",
    "def generate_3(s):\n",
    "    response = openai.Completion.create(\n",
    "        model='text-davinci-003',\n",
    "        prompt=s,\n",
    "        temperature=0.7)\n",
    "    return response['choices'][0]['text']"
   ]
  },
  {
   "cell_type": "code",
   "execution_count": null,
   "metadata": {},
   "outputs": [],
   "source": [
    "# 3.5\n",
    "def generate_3_5(s):\n",
    "    completion = openai.ChatCompletion.create(\n",
    "        model='gpt-3.5-turbo',\n",
    "        messages=[{\n",
    "            \"role\": 'user',\n",
    "            \"content\": s\n",
    "        }],\n",
    "        temperature=0.7\n",
    "    )\n",
    "    return completion.choices[0].message.content"
   ]
  },
  {
   "cell_type": "code",
   "execution_count": null,
   "metadata": {},
   "outputs": [],
   "source": [
    "# 4\n",
    "def generate_4(s):\n",
    "    response = openai.ChatCompletion.create(\n",
    "        model=\"gpt-4\",\n",
    "        messages=[{\n",
    "            \"role\": 'user',\n",
    "            \"content\": s\n",
    "        }],\n",
    "        temperature=0.7)\n",
    "    return response.choices[0].message.content"
   ]
  },
  {
   "cell_type": "markdown",
   "metadata": {},
   "source": [
    "# Within-topic"
   ]
  },
  {
   "cell_type": "code",
   "execution_count": null,
   "metadata": {},
   "outputs": [],
   "source": [
    "# Generate questions based on those in L200\n",
    "df200 = pd.read_excel('Data/L200.xlsx', header=None)\n",
    "df200 = df200.rename(columns={0: \"Question\", 1: \"Answer\", 2: \"Category\"})\n",
    "ans = pd.DataFrame(columns=['Question', 'Category', 'Topic', 'Model3', 'ModelTurbo', 'Model4'])"
   ]
  },
  {
   "cell_type": "code",
   "execution_count": null,
   "metadata": {},
   "outputs": [],
   "source": [
    "# randomly draw sample questions\n",
    "qs = pd.DataFrame(columns=['Question', 'Category', 'Topic'])\n",
    "gp200 = df200.groupby('Category')\n",
    "for name, group in gp200:\n",
    "    temp = group.reset_index()\n",
    "    idxs = random.sample(range(0,40),3)\n",
    "    for i in idxs:\n",
    "        qs.loc[len(qs)] = [temp.loc[i, 'Question'], name, '']\n",
    "#qs.to_excel(\"WTQ.xlsx\",index=False)"
   ]
  },
  {
   "cell_type": "code",
   "execution_count": null,
   "metadata": {},
   "outputs": [],
   "source": [
    "# or use what we got\n",
    "qs = pd.read_excel(\"WTQ.xlsx\")"
   ]
  },
  {
   "cell_type": "code",
   "execution_count": null,
   "metadata": {},
   "outputs": [],
   "source": [
    "# GPT-3\n",
    "for index, row in qs.iterrows():\n",
    "    for i in range(0,10):\n",
    "        s = row['Question']+'Given the above question, use different values to write a similar question \\\n",
    "        about '+row['Topic']+'.'\n",
    "        if i ==0:\n",
    "            ans.loc[len(ans)] = [row['Question'], row['Category'], row['Topic'], \n",
    "                                 generate_3(s), '', '']\n",
    "        else:\n",
    "            ans.loc[len(ans)] = ['', '', '', generate_3(s), '', '']\n",
    "        time.sleep(0.1)"
   ]
  },
  {
   "cell_type": "code",
   "execution_count": null,
   "metadata": {},
   "outputs": [],
   "source": [
    "# GPT-3.5\n",
    "for index, row in qs.iterrows():\n",
    "    for i in range(0,10):\n",
    "        s = row['Question']+'Given the above question, use different values to write a similar question \\\n",
    "        statement about '+row['Topic']+'. Don\\'t try to solve problem. Don\\'t repeat the original statement.'\n",
    "        ans.loc[len(ans)] = ['', '', '', '', generate_3_5(s), '']\n",
    "        time.sleep(0.2)"
   ]
  },
  {
   "cell_type": "code",
   "execution_count": null,
   "metadata": {},
   "outputs": [],
   "source": [
    "# GPT-4\n",
    "for index, row in qs.iterrows():\n",
    "    for i in range(0,10):\n",
    "        s = row['Question']+'Given the above question, use different values to write a similar question \\\n",
    "        statement about '+row['Topic']+'. Don\\'t try to solve problem. Don\\'t repeat the original statement.'\n",
    "        ans.loc[index, 'Model4'] = generate_4(s)\n",
    "        index += 1"
   ]
  },
  {
   "cell_type": "code",
   "execution_count": null,
   "metadata": {},
   "outputs": [],
   "source": [
    "ans.to_excel('WTG.xlsx', index=False)"
   ]
  },
  {
   "cell_type": "markdown",
   "metadata": {},
   "source": [
    "# Cross-topic"
   ]
  },
  {
   "cell_type": "code",
   "execution_count": null,
   "metadata": {},
   "outputs": [],
   "source": [
    "# randomly draw questions from L200 as within-topic generation, but need to manually add a column of reasonable new topics\n",
    "# or use ours\n",
    "ct = pd.read_excel(\"CTQ.xlsx\")\n",
    "gens = pd.DataFrame(columns=['Question', 'Category', 'Topic', 'NewTopic', 'Model3', 'ModelTurbo', 'Model4'])"
   ]
  },
  {
   "cell_type": "code",
   "execution_count": null,
   "metadata": {},
   "outputs": [],
   "source": [
    "# GPT-3\n",
    "for index, row in ct.iterrows():\n",
    "    for i in range(0,10):\n",
    "        s = row['Question']+'Given the above question, use different values to write a similar question \\\n",
    "        about '+row['NewTopic']+'. Don\\'t try to solve problem. Don\\'t repeat the original statement. \\\n",
    "        The new question should still pertain to a system of two equations.'\n",
    "        if i ==0:\n",
    "            gens.loc[len(gens)] = [row['Question'], row['Category'], row['Topic'], row['NewTopic'],\n",
    "                                generate_3(s), '', '']\n",
    "        else:\n",
    "            gens.loc[len(gens)] = ['', '', '', '', generate_3(s), '', '']\n",
    "        time.sleep(0.2)"
   ]
  },
  {
   "cell_type": "code",
   "execution_count": null,
   "metadata": {},
   "outputs": [],
   "source": [
    "# GPT-3.5\n",
    "for index, row in ct.iterrows():\n",
    "    for i in range(0,10):\n",
    "        s = row['Question']+'Given the above question, use different values to write a similar question \\\n",
    "        about '+row['NewTopic']+'. Don\\'t try to solve problem. Don\\'t repeat the original statement. \\\n",
    "        The new question should still pertain to a system of two equations.'\n",
    "        if i ==0:\n",
    "            gens.loc[len(gens)] = [row['Question'], row['Category'], row['Topic'], row['NewTopic'], '',\n",
    "                                generate_3_5(s), '']\n",
    "        else:\n",
    "            gens.loc[len(gens)] = ['', '', '', '', '', generate_3_5(s), '']\n",
    "        time.sleep(0.2)"
   ]
  },
  {
   "cell_type": "code",
   "execution_count": null,
   "metadata": {},
   "outputs": [],
   "source": [
    "# GPT-4\n",
    "for index, row in ct.iterrows():\n",
    "    for i in range(0,10):\n",
    "        s = row['Question']+'Given the above question, use different values to write a similar question \\\n",
    "        about '+row['NewTopic']+'. Don\\'t try to solve problem. Don\\'t repeat the original statement. \\\n",
    "        The new question should still pertain to a system of two equations.'\n",
    "        if i ==0:\n",
    "            gens.loc[len(gens)] = [row['Question'], row['Category'], row['Topic'], row['NewTopic'], '', '', generate_4(s)]\n",
    "        else:\n",
    "            gens.loc[len(gens)] = ['', '', '', '', '', '', generate_4(s)]\n",
    "        index += 1"
   ]
  },
  {
   "cell_type": "code",
   "execution_count": null,
   "metadata": {},
   "outputs": [],
   "source": [
    "#gens.to_excel('CTG.xlsx', index=False)"
   ]
  }
 ],
 "metadata": {
  "language_info": {
   "name": "python"
  },
  "orig_nbformat": 4
 },
 "nbformat": 4,
 "nbformat_minor": 2
}
